{
 "cells": [
  {
   "cell_type": "markdown",
   "metadata": {},
   "source": [
    "# Python Session"
   ]
  },
  {
   "cell_type": "markdown",
   "metadata": {},
   "source": [
    "## Testing setup"
   ]
  },
  {
   "cell_type": "code",
   "execution_count": 15,
   "metadata": {},
   "outputs": [
    {
     "name": "stdout",
     "output_type": "stream",
     "text": [
      "pip 24.2 from C:\\Users\\kanis\\AppData\\Local\\Programs\\Python\\Python312\\Lib\\site-packages\\pip (python 3.12)\n",
      "\n"
     ]
    }
   ],
   "source": [
    "!pip --version"
   ]
  },
  {
   "cell_type": "code",
   "execution_count": 16,
   "metadata": {},
   "outputs": [
    {
     "name": "stdout",
     "output_type": "stream",
     "text": [
      "Hello world\n"
     ]
    }
   ],
   "source": [
    "print(\"Hello world\")"
   ]
  },
  {
   "cell_type": "markdown",
   "metadata": {},
   "source": [
    "## Printing and input\n",
    "To Display something on the screen, we use the `print()` function. To get input from the user, we use the `input()` function."
   ]
  },
  {
   "cell_type": "code",
   "execution_count": 17,
   "metadata": {},
   "outputs": [
    {
     "name": "stdout",
     "output_type": "stream",
     "text": [
      "You entered:  12\n"
     ]
    }
   ],
   "source": [
    "a=input(\"Enter a number: \")\n",
    "print(\"You entered: \", a)"
   ]
  },
  {
   "cell_type": "markdown",
   "metadata": {},
   "source": [
    "## Data Types\n",
    "In python we do not need to declare the data type of a variable. Python automatically identifies the data type of the variable based on the value assigned to it."
   ]
  },
  {
   "cell_type": "code",
   "execution_count": 18,
   "metadata": {},
   "outputs": [
    {
     "name": "stdout",
     "output_type": "stream",
     "text": [
      "intiger_variable:  5\n",
      "intiger_variable type:  <class 'int'>\n",
      "float_variable:  5.0\n",
      "float_variable type:  <class 'float'>\n",
      "string_variable:  5\n",
      "string_variable type:  <class 'str'>\n",
      "bool_variable:  True\n",
      "bool_variable type:  <class 'bool'>\n"
     ]
    }
   ],
   "source": [
    "intiger_variable=5\n",
    "print(\"intiger_variable: \", intiger_variable)\n",
    "print(\"intiger_variable type: \", type(intiger_variable))\n",
    "\n",
    "float_variable=5.0\n",
    "print(\"float_variable: \", float_variable)\n",
    "print(\"float_variable type: \", type(float_variable))\n",
    "\n",
    "string_variable=\"5\"\n",
    "print(\"string_variable: \", string_variable)\n",
    "print(\"string_variable type: \", type(string_variable))\n",
    "\n",
    "bool_variable=True\n",
    "print(\"bool_variable: \", bool_variable)\n",
    "print(\"bool_variable type: \", type(bool_variable))"
   ]
  },
  {
   "cell_type": "markdown",
   "metadata": {},
   "source": [
    "### Implicit Type Conversion\n",
    "- int + int = int\n",
    "- int + float = float\n",
    "- int - int = int\n",
    "- int - float = float\n",
    "- int * int = int\n",
    "- int * float = float\n",
    "- int / int = float\n",
    "- int / float = float\n",
    "- int // int = int\n",
    "- int // float = float\n",
    "- int % int = int\n",
    "- int % float = float\n",
    "- int ** int = int\n",
    "- int ** float = float\n",
    "- str + str = str\n",
    "- str * int = str"
   ]
  },
  {
   "cell_type": "code",
   "execution_count": 19,
   "metadata": {},
   "outputs": [
    {
     "name": "stdout",
     "output_type": "stream",
     "text": [
      "intiger_variable:  5\n",
      "intiger_variable type:  <class 'int'>\n",
      "float_variable:  5.0\n",
      "float_variable type:  <class 'float'>\n",
      "string_variable:  5\n",
      "string_variable type:  <class 'str'>\n",
      "intiger_variable + intiger_variable:  10 <class 'int'>\n",
      "intiger_variable + float_variable:  10.0 <class 'float'>\n",
      "intiger_variable - intiger_variable:  0 <class 'int'>\n",
      "intiger_variable - float_variable:  0.0 <class 'float'>\n",
      "intiger_variable * intiger_variable:  25 <class 'int'>\n",
      "intiger_variable * float_variable:  25.0 <class 'float'>\n",
      "intiger_variable / intiger_variable:  1.0 <class 'float'>\n",
      "intiger_variable / float_variable:  1.0 <class 'float'>\n",
      "intiger_variable % intiger_variable:  0 <class 'int'>\n",
      "intiger_variable % float_variable:  0.0 <class 'float'>\n",
      "intiger_variable ** intiger_variable:  3125 <class 'int'>\n",
      "intiger_variable ** float_variable:  3125.0 <class 'float'>\n",
      "intiger_variable // intiger_variable:  1 <class 'int'>\n",
      "intiger_variable // float_variable:  1.0 <class 'float'>\n",
      "string_variable + string_variable:  55 <class 'str'>\n",
      "string_variable * intiger_variable:  55555 <class 'str'>\n"
     ]
    }
   ],
   "source": [
    "# code example\n",
    "intiger_variable=5\n",
    "float_variable=5.0\n",
    "string_variable=\"5\"\n",
    "\n",
    "print(\"intiger_variable: \", intiger_variable)\n",
    "print(\"intiger_variable type: \", type(intiger_variable))\n",
    "\n",
    "print(\"float_variable: \", float_variable)\n",
    "print(\"float_variable type: \", type(float_variable))\n",
    "\n",
    "print(\"string_variable: \", string_variable)\n",
    "print(\"string_variable type: \", type(string_variable))\n",
    "\n",
    "# outputs\n",
    "print(\"intiger_variable + intiger_variable: \", intiger_variable + intiger_variable,type(intiger_variable + intiger_variable))\n",
    "print(\"intiger_variable + float_variable: \", intiger_variable + float_variable,type(intiger_variable + float_variable))\n",
    "print(\"intiger_variable - intiger_variable: \", intiger_variable - intiger_variable,type(intiger_variable - intiger_variable))\n",
    "print(\"intiger_variable - float_variable: \", intiger_variable - float_variable,type(intiger_variable - float_variable))\n",
    "print(\"intiger_variable * intiger_variable: \", intiger_variable * intiger_variable,type(intiger_variable * intiger_variable))\n",
    "print(\"intiger_variable * float_variable: \", intiger_variable * float_variable,type(intiger_variable * float_variable))\n",
    "print(\"intiger_variable / intiger_variable: \", intiger_variable / intiger_variable,type(intiger_variable / intiger_variable))\n",
    "print(\"intiger_variable / float_variable: \", intiger_variable / float_variable,type(intiger_variable / float_variable))\n",
    "print(\"intiger_variable % intiger_variable: \", intiger_variable % intiger_variable,type(intiger_variable % intiger_variable))\n",
    "print(\"intiger_variable % float_variable: \", intiger_variable % float_variable,type(intiger_variable % float_variable))\n",
    "print(\"intiger_variable ** intiger_variable: \", intiger_variable ** intiger_variable,type(intiger_variable ** intiger_variable))\n",
    "print(\"intiger_variable ** float_variable: \", intiger_variable ** float_variable,type(intiger_variable ** float_variable))\n",
    "print(\"intiger_variable // intiger_variable: \", intiger_variable // intiger_variable,type(intiger_variable // intiger_variable))\n",
    "print(\"intiger_variable // float_variable: \", intiger_variable // float_variable,type(intiger_variable // float_variable))\n",
    "\n",
    "# strings\n",
    "print(\"string_variable + string_variable: \", string_variable + string_variable,type(string_variable + string_variable))\n",
    "print(\"string_variable * intiger_variable: \", string_variable * intiger_variable,type(string_variable * intiger_variable))"
   ]
  },
  {
   "cell_type": "markdown",
   "metadata": {},
   "source": [
    "### Explicit Type conversion"
   ]
  },
  {
   "cell_type": "code",
   "execution_count": 20,
   "metadata": {},
   "outputs": [
    {
     "name": "stdout",
     "output_type": "stream",
     "text": [
      "Intiger to float:  5.0 <class 'float'>\n",
      "Intiger to string:  5 <class 'str'>\n",
      "Float to intiger:  15 <class 'int'>\n",
      "Float to string:  15.0 <class 'str'>\n",
      "String to intiger:  10 <class 'int'>\n",
      "String to float:  10.0 <class 'float'>\n"
     ]
    }
   ],
   "source": [
    "intiger_variable=5\n",
    "float_variable=15.0\n",
    "string_variable=\"10\"\n",
    "\n",
    "print(\"Intiger to float: \", float(intiger_variable),type(float(intiger_variable)))\n",
    "print(\"Intiger to string: \", str(intiger_variable),type(str(intiger_variable)))\n",
    "print(\"Float to intiger: \", int(float_variable),type(int(float_variable)))\n",
    "print(\"Float to string: \", str(float_variable),type(str(float_variable)))\n",
    "print(\"String to intiger: \", int(string_variable),type(int(string_variable)))\n",
    "print(\"String to float: \", float(string_variable),type(float(string_variable)))\n"
   ]
  },
  {
   "cell_type": "markdown",
   "metadata": {},
   "source": [
    "### Strings\n",
    "Strings are just a set of characters. Strings are immutable. Strings can be enclosed in single quotes (' '), double quotes (\" \"), or triple quotes (''' ''' or \"\"\" \"\"\")\n",
    "-  triple quotes are used to span the string across multiple lines or we can simply say multiline strings.\n",
    "\n",
    "#### String methods \n",
    "| Method          | Description                                                                 |\n",
    "|-----------------|-----------------------------------------------------------------------------|\n",
    "| capitalize()    | Converts the first character to upper case                                  |\n",
    "| casefold()      | Converts string into lower case                                             |\n",
    "| center()        | Returns a centered string                                                   |\n",
    "| count()         | Returns the number of times a specified value occurs in a string            |\n",
    "| encode()        | Returns an encoded version of the string                                    |\n",
    "| endswith()      | Returns true if the string ends with the specified value                    |\n",
    "| expandtabs()    | Sets the tab size of the string                                             |\n",
    "| find()          | Searches the string for a specified value and returns the position of where it was found |\n",
    "| format()        | Formats specified values in a string                                        |\n",
    "| format_map()    | Formats specified values in a string                                        |\n",
    "| index()         | Searches the string for a specified value and returns the position of where it was found |\n",
    "| isalnum()       | Returns True if all characters in the string are alphanumeric               |\n",
    "| isalpha()       | Returns True if all characters in the string are in the alphabet            |\n",
    "| isascii()       | Returns True if all characters in the string are ascii characters           |\n",
    "| isdecimal()     | Returns True if all characters in the string are decimals                   |\n",
    "| isdigit()       | Returns True if all characters in the string are digits                     |\n",
    "| isidentifier()  | Returns True if the string is an identifier                                 |\n",
    "| islower()       | Returns True if all characters in the string are lower case                 |\n",
    "| isnumeric()     | Returns True if all characters in the string are numeric                    |\n",
    "| isprintable()   | Returns True if all characters in the string are printable                  |\n",
    "| isspace()       | Returns True if all characters in the string are whitespaces                |\n",
    "| istitle()       | Returns True if the string follows the rules of a title                     |\n",
    "| isupper()       | Returns True if all characters in the string are upper case                 |\n",
    "| join()          | Converts the elements of an iterable into a string                          |\n",
    "| ljust()         | Returns a left justified version of the string                              |\n",
    "| lower()         | Converts a string into lower case                                           |\n",
    "| lstrip()        | Returns a left trim version of the string                                   |\n",
    "| maketrans()     | Returns a translation table to be used in translations                      |\n",
    "| partition()     | Returns a tuple where the string is parted into three parts                 |\n",
    "| replace()       | Returns a string where a specified value is replaced with a specified value |\n",
    "| rfind()         | Searches the string for a specified value and returns the last position of where it was found |\n",
    "| rindex()        | Searches the string for a specified value and returns the last position of where it was found |\n",
    "| rjust()         | Returns a right justified version of the string                             |\n",
    "| rpartition()    | Returns a tuple where the string is parted into three parts                 |\n",
    "| rsplit()        | Splits the string at the specified separator, and returns a list            |\n",
    "| rstrip()        | Returns a right trim version of the string                                  |\n",
    "| split()         | Splits the string at the specified separator, and returns a list            |\n",
    "| splitlines()    | Splits the string at line breaks and returns a list                         |\n",
    "| startswith()    | Returns true if the string starts with the specified value                  |\n",
    "| strip()         | Returns a trimmed version of the string                                     |\n",
    "| swapcase()      | Swaps cases, lower case becomes upper case and vice versa                   |\n",
    "| title()         | Converts the first character of each word to upper case                     |\n",
    "| translate()     | Returns a translated string                                                 |\n",
    "| upper()         | Converts a string into upper case                                           |\n",
    "| zfill()         | Fills the string with a specified number of 0 values at the beginning       |\n",
    "\n",
    "\n",
    "reference : https://www.w3schools.com/python/python_ref_string.asp"
   ]
  },
  {
   "cell_type": "code",
   "execution_count": 21,
   "metadata": {},
   "outputs": [
    {
     "name": "stdout",
     "output_type": "stream",
     "text": [
      "capitalize(): Hello world!\n",
      "casefold(): hello world!\n",
      "center():     Hello World!    \n",
      "count('o'): 2\n",
      "encode(): b'Hello World!'\n",
      "endswith('!'): True\n",
      "expandtabs(4): Hello   World!\n",
      "find('World'): 6\n",
      "format(): Hello World!\n",
      "format_map(): Alice is 25 years old.\n",
      "index('World'): 6\n",
      "isalnum(): False\n",
      "isalpha(): False\n",
      "isascii(): True\n",
      "isdecimal(): False\n",
      "isdigit(): False\n",
      "isidentifier(): False\n",
      "islower(): False\n",
      "isnumeric(): False\n",
      "isprintable(): True\n",
      "isspace(): False\n",
      "istitle(): True\n",
      "isupper(): False\n",
      "join(['Hello', 'World']): Hello World\n",
      "ljust(20): Hello World!        \n",
      "lower(): hello world!\n",
      "lstrip(): Hello World!\n",
      "maketrans: {72: 104}\n",
      "partition(' '): ('Hello', ' ', 'World!')\n",
      "replace('World', 'Universe'): Hello Universe!\n",
      "rfind('o'): 7\n",
      "rindex('o'): 7\n",
      "rjust(20):         Hello World!\n",
      "rpartition(' '): ('Hello', ' ', 'World!')\n",
      "rsplit(): ['Hello', 'World!']\n",
      "rstrip(): Hello World!\n",
      "split(): ['Hello', 'World!']\n",
      "splitlines(): ['Hello', 'World!']\n",
      "startswith('Hello'): True\n",
      "strip(): Hello World!\n",
      "swapcase(): hELLO wORLD!\n",
      "title(): Hello World!\n",
      "translate({72: 104}): hello World!\n",
      "upper(): HELLO WORLD!\n",
      "zfill(20): 00000000Hello World!\n"
     ]
    }
   ],
   "source": [
    "# String for demonstration\n",
    "demo_string = \"Hello World!\"\n",
    "\n",
    "print(\"capitalize():\", demo_string.capitalize())\n",
    "print(\"casefold():\", demo_string.casefold())\n",
    "print(\"center():\", demo_string.center(20))\n",
    "print(\"count('o'):\", demo_string.count('o'))\n",
    "print(\"encode():\", demo_string.encode())\n",
    "print(\"endswith('!'):\", demo_string.endswith('!'))\n",
    "print(\"expandtabs(4):\", \"Hello\\tWorld!\".expandtabs(4))\n",
    "print(\"find('World'):\", demo_string.find('World'))\n",
    "print(\"format():\", \"Hello {}!\".format(\"World\"))\n",
    "print(\"format_map():\", \"{name} is {age} years old.\".format_map({'name': 'Alice', 'age': 25}))\n",
    "print(\"index('World'):\", demo_string.index('World'))\n",
    "print(\"isalnum():\", demo_string.isalnum())\n",
    "print(\"isalpha():\", demo_string.isalpha())\n",
    "print(\"isascii():\", demo_string.isascii())\n",
    "print(\"isdecimal():\", demo_string.isdecimal())\n",
    "print(\"isdigit():\", demo_string.isdigit())\n",
    "print(\"isidentifier():\", demo_string.isidentifier())\n",
    "print(\"islower():\", demo_string.islower())\n",
    "print(\"isnumeric():\", demo_string.isnumeric())\n",
    "print(\"isprintable():\", demo_string.isprintable())\n",
    "print(\"isspace():\", demo_string.isspace())\n",
    "print(\"istitle():\", demo_string.istitle())\n",
    "print(\"isupper():\", demo_string.isupper())\n",
    "print(\"join(['Hello', 'World']):\", ' '.join(['Hello', 'World']))\n",
    "print(\"ljust(20):\", demo_string.ljust(20))\n",
    "print(\"lower():\", demo_string.lower())\n",
    "print(\"lstrip():\", \"   Hello World!\".lstrip())\n",
    "print(\"maketrans:\", str.maketrans(\"H\", \"h\"))\n",
    "print(\"partition(' '):\", demo_string.partition(' '))\n",
    "print(\"replace('World', 'Universe'):\", demo_string.replace('World', 'Universe'))\n",
    "print(\"rfind('o'):\", demo_string.rfind('o'))\n",
    "print(\"rindex('o'):\", demo_string.rindex('o'))\n",
    "print(\"rjust(20):\", demo_string.rjust(20))\n",
    "print(\"rpartition(' '):\", demo_string.rpartition(' '))\n",
    "print(\"rsplit():\", demo_string.rsplit())\n",
    "print(\"rstrip():\", \"Hello World!   \".rstrip())\n",
    "print(\"split():\", demo_string.split())\n",
    "print(\"splitlines():\", \"Hello\\nWorld!\".splitlines())\n",
    "print(\"startswith('Hello'):\", demo_string.startswith('Hello'))\n",
    "print(\"strip():\", \"   Hello World!   \".strip())\n",
    "print(\"swapcase():\", demo_string.swapcase())\n",
    "print(\"title():\", \"hello world!\".title())\n",
    "print(\"translate({72: 104}):\", demo_string.translate({72: 104}))\n",
    "print(\"upper():\", demo_string.upper())\n",
    "print(\"zfill(20):\", demo_string.zfill(20))"
   ]
  },
  {
   "cell_type": "markdown",
   "metadata": {},
   "source": [
    "## Data Structures\n",
    "- List\n",
    "- Tuple\n",
    "- Set\n",
    "- Dictionary"
   ]
  },
  {
   "cell_type": "markdown",
   "metadata": {},
   "source": [
    "### List\n",
    "- List is a collection of items. The items can be of different data types.\n",
    "- List is mutable, i.e., the values in a list can be changed.\n",
    "- List is ordered, i.e., the items in a list have a defined order.\n",
    "- List is indexed, i.e., the items in a list can be accessed using an index.\n",
    "- List is represented by square brackets `[]`.\n",
    "\n",
    "#### List Operations\n",
    "- `append()`: Adds an element at the end of the list.\n",
    "- `insert()`: Adds an element at the specified position.\n",
    "- `remove()`: Removes the first item with the specified value.\n",
    "- `pop()`: Removes the element at the specified position.\n",
    "- `clear()`: Removes all the elements from the list.\n",
    "- `index()`: Returns the index of the first element with the specified value.\n",
    "- `count()`: Returns the number of elements with the specified value.\n",
    "- `sort()`: Sorts the list. Important: to sort a list, all the elements in the list should be of the same data type.\n",
    "- `reverse()`: Reverses the order of the list.\n",
    "- `copy()`: Returns a copy of the list."
   ]
  },
  {
   "cell_type": "code",
   "execution_count": 22,
   "metadata": {},
   "outputs": [
    {
     "name": "stdout",
     "output_type": "stream",
     "text": [
      "list_1:  [5, 15.0, '10', True, '12']\n",
      "list_1[0]:  5\n",
      "len(list_1):  5\n",
      "len(string_variable):  2\n",
      "list_1:  [10, 15.0, '10', True, '12', 15]\n",
      "list_1:  [20, 10, 15.0, '10', True, '12', 15]\n",
      "list_2:  [20, '10', True, '12', 15]\n",
      "list_2:  []\n",
      "list_1.index(15):  4\n",
      "list_1.count(15):  1\n",
      "list_1:  [20, '10', True, '12', 15]\n",
      "list_2:  [5, 10, 15, 20, 25]\n",
      "list_1:  [20, '10', True, '12', 15]\n",
      "list_1:  [15, '12', True, '10', 20]\n"
     ]
    }
   ],
   "source": [
    "# code example\n",
    "list_1 = [intiger_variable, float_variable, string_variable, bool_variable, a]\n",
    "print(\"list_1: \", list_1)\n",
    "\n",
    "# accessing elements\n",
    "print(\"list_1[0]: \", list_1[0])\n",
    "\n",
    "# changing elements\n",
    "list_1[0] = 10\n",
    "\n",
    "# getting length\n",
    "print(\"len(list_1): \", len(list_1))\n",
    "# can be used to get hte length of strings as well\n",
    "print(\"len(string_variable): \", len(string_variable))\n",
    "\n",
    "# `append()`: Adds an element at the end of the list.\n",
    "list_1.append(15)\n",
    "print(\"list_1: \", list_1)\n",
    "# `insert()`: Adds an element at the specified position.\n",
    "list_1.insert(0, 20)\n",
    "print(\"list_1: \", list_1)\n",
    "# `remove()`: Removes the first item with the specified value.\n",
    "list_1.remove(10)\n",
    "# `pop()`: Removes the element at the specified position.\n",
    "list_1.pop(1)\n",
    "# `copy()`: Returns a copy of the list.\n",
    "list_2 = list_1.copy()\n",
    "print(\"list_2: \", list_2)\n",
    "# `clear()`: Removes all the elements from the list.\n",
    "list_2.clear()\n",
    "print(\"list_2: \", list_2)\n",
    "# `index()`: Returns the index of the first element with the specified value.\n",
    "print(\"list_1.index(15): \", list_1.index(15))\n",
    "# `count()`: Returns the number of elements with the specified value.\n",
    "print(\"list_1.count(15): \", list_1.count(15))\n",
    "# `sort()`: Sorts the list.\n",
    "list_3 = [5, 10, 15, 20, 25]\n",
    "list_3.sort()\n",
    "print(\"list_1: \", list_1)\n",
    "# `sorted()`: Returns a sorted list.\n",
    "list_2 = sorted(list_3)\n",
    "print(\"list_2: \", list_2)\n",
    "print(\"list_1: \", list_1)\n",
    "# `reverse()`: Reverses the order of the list.\n",
    "list_1.reverse()\n",
    "print(\"list_1: \", list_1)\n",
    "\n",
    "# There are many ways which you can always look at following the link below\n",
    "# https://www.geeksforgeeks.org/list-methods-python/"
   ]
  },
  {
   "cell_type": "markdown",
   "metadata": {},
   "source": [
    "### Tuple\n",
    "- Tuple is a collection of items. The items can be of different data types.\n",
    "- Tuple is immutable, i.e., the values in a tuple cannot be changed.\n",
    "- Tuple is ordered, i.e., the items in a tuple have a defined order.\n",
    "- Tuple is indexed, i.e., the items in a tuple can be accessed using an index.\n",
    "- Tuple is represented by parentheses `()`.\n",
    "\n",
    "#### Tuple Operations\n",
    "- `count()`: Returns the number of times a specified value occurs in a tuple.\n",
    "- `index()`: Searches the tuple for a specified value and returns the position of where it was found.\n"
   ]
  },
  {
   "cell_type": "code",
   "execution_count": 23,
   "metadata": {},
   "outputs": [
    {
     "name": "stdout",
     "output_type": "stream",
     "text": [
      "tuple_1:  (5, 15.0, '10', True, '12')\n",
      "tuple_1[0]:  5\n",
      "len(tuple_1):  5\n",
      "tuple_1.count(5):  1\n",
      "tuple_1.index(5):  0\n"
     ]
    }
   ],
   "source": [
    "# code example\n",
    "tuple_1 = (intiger_variable, float_variable, string_variable, bool_variable, a)\n",
    "print(\"tuple_1: \", tuple_1)\n",
    "\n",
    "# accessing elements\n",
    "print(\"tuple_1[0]: \", tuple_1[0])\n",
    "\n",
    "# getting length\n",
    "print(\"len(tuple_1): \", len(tuple_1))\n",
    "\n",
    "# `count()`: Returns the number of times a specified value occurs in a tuple.\n",
    "print(\"tuple_1.count(5): \", tuple_1.count(5))\n",
    "\n",
    "# `index()`: Searches the tuple for a specified value and returns the position of where it was found.\n",
    "print(\"tuple_1.index(5): \", tuple_1.index(5))\n",
    "\n",
    "# trying to change the value of a tuple\n",
    "# tuple_1[0] = 10\n",
    "# print(\"tuple_1: \", tuple_1)"
   ]
  },
  {
   "cell_type": "markdown",
   "metadata": {},
   "source": [
    "### Sets\n",
    "- Set is a collection of items. The items can be of different data types.\n",
    "- Set is mutable, i.e., the values in a set can be changed.\n",
    "- Set is unordered, i.e., the items in a set do not have a defined order.\n",
    "- Set is unindexed, i.e., the items in a set cannot be accessed using an index.\n",
    "- Set is represented by curly brackets `{}`.\n",
    "\n",
    "#### Set Operations\n",
    "- `add()`: Adds an element to the set.\n",
    "- `update()`: Adds multiple elements to the set.\n",
    "- `remove()`: Removes the specified element from the set.\n",
    "- `discard()`: Removes the specified element from the set.\n",
    "- `pop()`: Removes the last element from the set.\n",
    "- `clear()`: Removes all the elements from the set.\n",
    "- `union()`: Returns a set containing the union of sets.\n",
    "- `intersection()`: Returns a set, that is the intersection of two other sets.\n",
    "- `difference()`: Returns a set containing the difference between two sets.\n",
    "- `symmetric_difference()`: Returns a set with the symmetric differences of two sets.\n",
    "- `copy()`: Returns a copy of the set.\n",
    "- `issubset()`: Returns whether another set contains this set or not.\n",
    "- `issuperset()`: Returns whether this set contains another set or not.\n",
    "- `isdisjoint()`: Returns whether two sets have a intersection or not.\n",
    "- `intersection_update()`: Removes the items in this set that are not present in other, specified set(s).\n",
    "- `difference_update()`: Removes the items in this set that are also included in another, specified set(s).\n",
    "- `symmetric_difference_update()`: Inserts the symmetric differences from this set and another."
   ]
  },
  {
   "cell_type": "code",
   "execution_count": 24,
   "metadata": {},
   "outputs": [
    {
     "name": "stdout",
     "output_type": "stream",
     "text": [
      "set_1:  {1, 2, 4, 5}\n",
      "set_1:  {1, 2, 4, 5, 10}\n",
      "set_1:  {1, 2, 4, 5, 10}\n",
      "set_1:  {1, 2, 4, 5, 10, 15, 20}\n",
      "set_1:  {2, 4, 5, 15, 20}\n",
      "set_2:  set()\n",
      "set_1.union(set_2):  {2, 4, 5, 20, 10, 15}\n",
      "set_1.intersection(set_2):  {20, 15}\n",
      "set_1.difference(set_2):  {2, 4, 5}\n",
      "set_1.symmetric_difference(set_2):  {2, 4, 5, 10}\n",
      "set_1.issubset(set_2):  False\n",
      "set_1.issuperset(set_2):  False\n",
      "set_1.isdisjoint(set_2):  False\n",
      "set_3:  {20, 15}\n",
      "set_3:  {2, 4, 5}\n",
      "set_3:  {2, 4, 5, 10}\n"
     ]
    }
   ],
   "source": [
    "set_1={1,2,2,5,4,5}\n",
    "print(\"set_1: \", set_1)\n",
    "\n",
    "# `add()`: Adds an element to the set.\n",
    "set_1.add(10)\n",
    "print(\"set_1: \", set_1)\n",
    "set_1.add(10)\n",
    "print(\"set_1: \", set_1) # it will not add the element as it is already present in the set\n",
    "# `update()`: Adds multiple elements to the set.\n",
    "set_1.update([10, 15, 20])\n",
    "print(\"set_1: \", set_1)\n",
    "# `remove()`: Removes the specified element from the set.\n",
    "set_1.remove(10)  # if the element is not present it will throw an error\n",
    "# `discard()`: Removes the specified element from the set.\n",
    "set_1.discard(10)  # if the element is not present it will not throw an error\n",
    "# `pop()`: Removes the last element from the set.\n",
    "set_1.pop()\n",
    "print(\"set_1: \", set_1)\n",
    "# `clear()`: Removes all the elements from the set.\n",
    "set_2=set_1.copy()\n",
    "set_2.clear()\n",
    "print(\"set_2: \", set_2)\n",
    "# `union()`: Returns a set containing the union of sets.\n",
    "set_2={10,15,20}\n",
    "print(\"set_1.union(set_2): \", set_1.union(set_2))\n",
    "# `intersection()`: Returns a set, that is the intersection of two other sets.\n",
    "print(\"set_1.intersection(set_2): \", set_1.intersection(set_2))\n",
    "# `difference()`: Returns a set containing the difference between two sets.\n",
    "print(\"set_1.difference(set_2): \", set_1.difference(set_2))\n",
    "# `symmetric_difference()`: Returns a set with the symmetric differences of two sets.\n",
    "print(\"set_1.symmetric_difference(set_2): \", set_1.symmetric_difference(set_2))\n",
    "# `copy()`: Returns a copy of the set.\n",
    "set_3=set_1.copy()\n",
    "# `issubset()`: Returns whether another set contains this set or not.\n",
    "print(\"set_1.issubset(set_2): \", set_1.issubset(set_2))\n",
    "# `issuperset()`: Returns whether this set contains another set or not.\n",
    "print(\"set_1.issuperset(set_2): \", set_1.issuperset(set_2))\n",
    "# `isdisjoint()`: Returns whether two sets have a intersection or not.\n",
    "print(\"set_1.isdisjoint(set_2): \", set_1.isdisjoint(set_2))\n",
    "# `intersection_update()`: Removes the items in this set that are not present in other, specified set(s).\n",
    "set_3=set_1.copy()\n",
    "set_3.intersection_update(set_2)\n",
    "print(\"set_3: \", set_3)\n",
    "# `difference_update()`: Removes the items in this set that are also included in another, specified set(s).\n",
    "set_3=set_1.copy()\n",
    "set_3.difference_update(set_2)\n",
    "print(\"set_3: \", set_3)\n",
    "# `symmetric_difference_update()`: Inserts the symmetric differences from this set and another.\n",
    "set_3=set_1.copy()\n",
    "set_3.symmetric_difference_update(set_2)\n",
    "print(\"set_3: \", set_3)"
   ]
  },
  {
   "cell_type": "markdown",
   "metadata": {},
   "source": [
    "### Dictionary\n",
    "- Dictionary is a collection of items. The items are stored in key-value pairs.\n",
    "- Dictionary is mutable, i.e., the values in a dictionary can be changed.\n",
    "- Dictionary is unordered, i.e., the items in a dictionary do not have a defined order.\n",
    "- Dictionary is represented by curly brackets `{}`.\n",
    "\n",
    "#### Dictionary Operations\n",
    "- `clear()`: Removes all the elements from the dictionary.\n",
    "- `copy()`: Returns a copy of the dictionary.\n",
    "- `fromkeys()`: Returns a dictionary with the specified keys and values.\n",
    "- `get()`: Returns the value of the specified key.\n",
    "- `items()`: Returns a list containing a tuple for each key value pair.\n",
    "- `keys()`: Returns a list containing the dictionary's keys.\n",
    "- `pop()`: Removes the element with the specified key.\n",
    "- `popitem()`: Removes the last inserted key-value pair.\n",
    "- `setdefault()`: Returns the value of the specified key. If the key does not exist: insert the key, with the specified value.\n",
    "- `update()`: Updates the dictionary with the specified key-value pairs.\n",
    "- `values()`: Returns a list of all the values in the dictionary.\n"
   ]
  },
  {
   "cell_type": "code",
   "execution_count": 25,
   "metadata": {},
   "outputs": [
    {
     "name": "stdout",
     "output_type": "stream",
     "text": [
      "dict_1:  {'intiger_variable': 5, 'float_variable': 15.0, 'string_variable': '10', 'bool_variable': True, 'a': '12'}\n",
      "dict_1['intiger_variable']:  5\n",
      "len(dict_1):  5\n",
      "dict_1:  {'intiger_variable': 10, 'float_variable': 15.0, 'string_variable': '10', 'bool_variable': True, 'a': '12'}\n",
      "dict_2:  {}\n",
      "dict_2:  {'intiger_variable': 10, 'float_variable': 15.0, 'string_variable': '10', 'bool_variable': True, 'a': '12'}\n",
      "dict_3:  {'key1': 0, 'key2': 0, 'key3': 0}\n",
      "dict_1.get('intiger_variable'):  10\n",
      "dict_1.items():  dict_items([('intiger_variable', 10), ('float_variable', 15.0), ('string_variable', '10'), ('bool_variable', True), ('a', '12')])\n",
      "dict_1.keys():  dict_keys(['intiger_variable', 'float_variable', 'string_variable', 'bool_variable', 'a'])\n",
      "dict_1:  {'float_variable': 15.0, 'string_variable': '10', 'bool_variable': True, 'a': '12'}\n",
      "dict_1:  {'float_variable': 15.0, 'string_variable': '10', 'bool_variable': True}\n",
      "dict_1:  {'float_variable': 15.0, 'string_variable': '10', 'bool_variable': True, 'new_key': 'new_value'}\n",
      "dict_1:  {'float_variable': 15.0, 'string_variable': '10', 'bool_variable': True, 'new_key': 'updated_value', 'intiger_variable': 5}\n",
      "dict_1.values():  dict_values([15.0, '10', True, 'updated_value', 5])\n"
     ]
    }
   ],
   "source": [
    "# code example\n",
    "dict_1 = {\n",
    "    \"intiger_variable\": intiger_variable,\n",
    "    \"float_variable\": float_variable,\n",
    "    \"string_variable\": string_variable,\n",
    "    \"bool_variable\": bool_variable,\n",
    "    \"a\": a\n",
    "}\n",
    "print(\"dict_1: \", dict_1)\n",
    "\n",
    "# accessing elements\n",
    "print(\"dict_1['intiger_variable']: \", dict_1['intiger_variable'])\n",
    "\n",
    "# getting length\n",
    "print(\"len(dict_1): \", len(dict_1))\n",
    "\n",
    "# updating value\n",
    "dict_1['intiger_variable'] = 10\n",
    "print(\"dict_1: \", dict_1)\n",
    "\n",
    "# `clear()`: Removes all the elements from the dictionary.\n",
    "dict_2 = dict_1.copy()\n",
    "dict_2.clear()\n",
    "print(\"dict_2: \", dict_2)\n",
    "\n",
    "# `copy()`: Returns a copy of the dictionary.\n",
    "dict_2 = dict_1.copy()\n",
    "print(\"dict_2: \", dict_2)\n",
    "\n",
    "# `fromkeys()`: Returns a dictionary with the specified keys and values.\n",
    "keys = ['key1', 'key2', 'key3']\n",
    "value = 0\n",
    "dict_3 = dict.fromkeys(keys, value)\n",
    "print(\"dict_3: \", dict_3)\n",
    "\n",
    "# `get()`: Returns the value of the specified key.\n",
    "print(\"dict_1.get('intiger_variable'): \", dict_1.get('intiger_variable'))\n",
    "\n",
    "# `items()`: Returns a list containing a tuple for each key value pair.\n",
    "print(\"dict_1.items(): \", dict_1.items())\n",
    "\n",
    "# `keys()`: Returns a list containing the dictionary's keys.\n",
    "print(\"dict_1.keys(): \", dict_1.keys())\n",
    "\n",
    "# `pop()`: Removes the element with the specified key.\n",
    "dict_1.pop('intiger_variable')\n",
    "print(\"dict_1: \", dict_1)\n",
    "\n",
    "# `popitem()`: Removes the last inserted key-value pair.\n",
    "dict_1.popitem()\n",
    "print(\"dict_1: \", dict_1)\n",
    "\n",
    "# `setdefault()`: Returns the value of the specified key. If the key does not exist: insert the key, with the specified value.\n",
    "dict_1.setdefault('new_key', 'new_value')\n",
    "print(\"dict_1: \", dict_1)\n",
    "\n",
    "# `update()`: Updates the dictionary with the specified key-value pairs.\n",
    "dict_1.update({'intiger_variable': 5, 'new_key': 'updated_value'})\n",
    "print(\"dict_1: \", dict_1)\n",
    "\n",
    "# `values()`: Returns a list of all the values in the dictionary.\n",
    "print(\"dict_1.values(): \", dict_1.values())"
   ]
  },
  {
   "cell_type": "markdown",
   "metadata": {},
   "source": [
    "## Loops\n",
    "Loops are used to execute a block of code multiple times.In Python, we have two types of loops:\n",
    "- `for` loop\n",
    "- `while` loop"
   ]
  },
  {
   "cell_type": "code",
   "execution_count": 26,
   "metadata": {},
   "outputs": [
    {
     "name": "stdout",
     "output_type": "stream",
     "text": [
      "0\n",
      "1\n",
      "2\n",
      "3\n",
      "4\n"
     ]
    }
   ],
   "source": [
    "for i in range(5):\n",
    "    print(i)"
   ]
  },
  {
   "cell_type": "code",
   "execution_count": 27,
   "metadata": {},
   "outputs": [
    {
     "name": "stdout",
     "output_type": "stream",
     "text": [
      "1\n",
      "2\n",
      "3\n",
      "4\n",
      "5\n"
     ]
    }
   ],
   "source": [
    "list_1 = [1, 2, 3, 4, 5]\n",
    "for i in list_1:\n",
    "    print(i)"
   ]
  },
  {
   "cell_type": "code",
   "execution_count": 28,
   "metadata": {},
   "outputs": [
    {
     "name": "stdout",
     "output_type": "stream",
     "text": [
      "1\n",
      "3\n",
      "5\n",
      "7\n",
      "9\n"
     ]
    }
   ],
   "source": [
    "for i in range(1,10,2):\n",
    "    print(i)"
   ]
  },
  {
   "cell_type": "code",
   "execution_count": 29,
   "metadata": {},
   "outputs": [
    {
     "name": "stdout",
     "output_type": "stream",
     "text": [
      "9\n",
      "8\n",
      "7\n",
      "6\n",
      "5\n",
      "4\n",
      "3\n",
      "2\n",
      "1\n"
     ]
    }
   ],
   "source": [
    "temp=[1,2,3,4,5,6,7,8,9]\n",
    "while len(temp) > 0:\n",
    "    print(temp.pop())\n"
   ]
  },
  {
   "cell_type": "markdown",
   "metadata": {},
   "source": [
    "## Conditional Statements\n",
    "Conditional statements are used to make decisions based on certain conditions. In Python, we have the following conditional statements:\n",
    "- `if` statement\n",
    "- `if-else` statement\n",
    "- `if-elif-else` statement"
   ]
  },
  {
   "cell_type": "code",
   "execution_count": 30,
   "metadata": {},
   "outputs": [
    {
     "name": "stdout",
     "output_type": "stream",
     "text": [
      "condition1 is true\n"
     ]
    }
   ],
   "source": [
    "condition1=True\n",
    "condition2=False\n",
    "if condition1:\n",
    "    print(\"condition1 is true\")\n",
    "elif condition2:\n",
    "    print(\"condition2 is true\")\n",
    "else:\n",
    "    print(\"condition1 and condition2 are false\")"
   ]
  },
  {
   "cell_type": "markdown",
   "metadata": {},
   "source": [
    "## File handeling"
   ]
  },
  {
   "cell_type": "markdown",
   "metadata": {},
   "source": [
    "### Reading file"
   ]
  },
  {
   "cell_type": "code",
   "execution_count": 31,
   "metadata": {},
   "outputs": [
    {
     "name": "stdout",
     "output_type": "stream",
     "text": [
      "Hello World!\n",
      "Hello World!\n",
      "Hello World!\n",
      "Hello World!\n"
     ]
    }
   ],
   "source": [
    "file=open(\"temp.txt\",\"r\")\n",
    "print(file.read())\n",
    "file.close()"
   ]
  },
  {
   "cell_type": "code",
   "execution_count": 32,
   "metadata": {},
   "outputs": [
    {
     "name": "stdout",
     "output_type": "stream",
     "text": [
      "Hello World!\n",
      "Hello World!\n",
      "Hello World!\n",
      "Hello World!\n"
     ]
    }
   ],
   "source": [
    "with open(\"temp.txt\",\"r\") as file:\n",
    "    print(file.read())"
   ]
  },
  {
   "cell_type": "code",
   "execution_count": 33,
   "metadata": {},
   "outputs": [
    {
     "name": "stdout",
     "output_type": "stream",
     "text": [
      "Hello World!\n",
      "\n",
      "Hello World!\n",
      "\n",
      "Hello World!\n",
      "\n",
      "Hello World!\n"
     ]
    }
   ],
   "source": [
    "with open(\"temp.txt\",\"r\") as file:\n",
    "    for line in file:\n",
    "        print(line)"
   ]
  },
  {
   "cell_type": "code",
   "execution_count": 34,
   "metadata": {},
   "outputs": [
    {
     "name": "stdout",
     "output_type": "stream",
     "text": [
      "Hello World!\n",
      "\n",
      "['Hello World!\\n', 'Hello World!\\n', 'Hello World!']\n"
     ]
    }
   ],
   "source": [
    "file=open(\"temp.txt\",\"r\")\n",
    "line1=file.readline()\n",
    "print(line1)\n",
    "lines=file.readlines()\n",
    "print(lines)"
   ]
  },
  {
   "cell_type": "markdown",
   "metadata": {},
   "source": [
    "## Writing file"
   ]
  },
  {
   "cell_type": "code",
   "execution_count": 35,
   "metadata": {},
   "outputs": [
    {
     "name": "stdout",
     "output_type": "stream",
     "text": [
      "Hello World!\n"
     ]
    }
   ],
   "source": [
    "file=open(\"temp.txt\",\"w\")\n",
    "file.write(\"Hello World!\")\n",
    "file.close()\n",
    "\n",
    "with open(\"temp.txt\",\"r\") as file:\n",
    "    print(file.read())"
   ]
  },
  {
   "cell_type": "code",
   "execution_count": 36,
   "metadata": {},
   "outputs": [
    {
     "name": "stdout",
     "output_type": "stream",
     "text": [
      "Hello World!\n"
     ]
    }
   ],
   "source": [
    "with open(\"temp.txt\",\"w\") as file:\n",
    "    file.write(\"Hello World!\")\n",
    "\n",
    "with open(\"temp.txt\",\"r\") as file:\n",
    "    print(file.read())"
   ]
  },
  {
   "cell_type": "markdown",
   "metadata": {},
   "source": [
    "### Appending file"
   ]
  },
  {
   "cell_type": "code",
   "execution_count": 37,
   "metadata": {},
   "outputs": [
    {
     "name": "stdout",
     "output_type": "stream",
     "text": [
      "Hello World!\n",
      "Hello World!\n"
     ]
    }
   ],
   "source": [
    "file=open(\"temp.txt\",\"a\")\n",
    "file.write(\"\\nHello World!\")\n",
    "file.close()\n",
    "\n",
    "with open(\"temp.txt\",\"r\") as file:\n",
    "    print(file.read())"
   ]
  },
  {
   "cell_type": "code",
   "execution_count": 38,
   "metadata": {},
   "outputs": [
    {
     "name": "stdout",
     "output_type": "stream",
     "text": [
      "Hello World!\n",
      "Hello World!\n",
      "Hello World!\n"
     ]
    }
   ],
   "source": [
    "with open(\"temp.txt\",\"a\") as file:  \n",
    "    file.write(\"\\nHello World!\")\n",
    "\n",
    "with open(\"temp.txt\",\"r\") as file:\n",
    "    print(file.read())"
   ]
  },
  {
   "cell_type": "markdown",
   "metadata": {},
   "source": [
    "## OOPS"
   ]
  }
 ],
 "metadata": {
  "kernelspec": {
   "display_name": "Python 3",
   "language": "python",
   "name": "python3"
  },
  "language_info": {
   "codemirror_mode": {
    "name": "ipython",
    "version": 3
   },
   "file_extension": ".py",
   "mimetype": "text/x-python",
   "name": "python",
   "nbconvert_exporter": "python",
   "pygments_lexer": "ipython3",
   "version": "3.12.7"
  }
 },
 "nbformat": 4,
 "nbformat_minor": 2
}
